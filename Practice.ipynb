{
  "nbformat": 4,
  "nbformat_minor": 0,
  "metadata": {
    "colab": {
      "provenance": [],
      "authorship_tag": "ABX9TyOQmF6ocx2MGEheqAw8uH6I",
      "include_colab_link": true
    },
    "kernelspec": {
      "name": "python3",
      "display_name": "Python 3"
    },
    "language_info": {
      "name": "python"
    }
  },
  "cells": [
    {
      "cell_type": "markdown",
      "metadata": {
        "id": "view-in-github",
        "colab_type": "text"
      },
      "source": [
        "<a href=\"https://colab.research.google.com/github/ch-ayesha/GENAI-PRACTICE/blob/main/Practice.ipynb\" target=\"_parent\"><img src=\"https://colab.research.google.com/assets/colab-badge.svg\" alt=\"Open In Colab\"/></a>"
      ]
    },
    {
      "cell_type": "code",
      "execution_count": 1,
      "metadata": {
        "colab": {
          "base_uri": "https://localhost:8080/"
        },
        "id": "psGvGwQjkixL",
        "outputId": "1aa4c7b0-5fdf-46aa-d026-5694958b1ca3"
      },
      "outputs": [
        {
          "output_type": "stream",
          "name": "stdout",
          "text": [
            "Temperature Conversion\n",
            "1: Celsius to Fahrenheit\n",
            "2: Fahrenheit to Celsius\n",
            "Enter your choice (1/2): 1\n",
            "Enter temperature in Celsius: 20\n",
            "20.0°C is equal to 68.0°F\n"
          ]
        }
      ],
      "source": [
        "def celsius_to_fahrenheit(celsius):\n",
        "    fahrenheit = (celsius * 9/5) + 32\n",
        "    return fahrenheit\n",
        "\n",
        "def fahrenheit_to_celsius(fahrenheit):\n",
        "    celsius = (fahrenheit - 32) * 5/9\n",
        "    return celsius\n",
        "\n",
        "def main():\n",
        "    print(\"Temperature Conversion\")\n",
        "    print(\"1: Celsius to Fahrenheit\")\n",
        "    print(\"2: Fahrenheit to Celsius\")\n",
        "    choice = input(\"Enter your choice (1/2): \")\n",
        "\n",
        "    if choice == '1':\n",
        "        celsius = float(input(\"Enter temperature in Celsius: \"))\n",
        "        fahrenheit = celsius_to_fahrenheit(celsius)\n",
        "        print(f\"{celsius}°C is equal to {fahrenheit}°F\")\n",
        "\n",
        "    elif choice == '2':\n",
        "        fahrenheit = float(input(\"Enter temperature in Fahrenheit: \"))\n",
        "        celsius = fahrenheit_to_celsius(fahrenheit)\n",
        "        print(f\"{fahrenheit}°F is equal to {celsius}°C\")\n",
        "\n",
        "    else:\n",
        "        print(\"Invalid choice. Please enter 1 or 2.\")\n",
        "\n",
        "if __name__ == \"__main__\":\n",
        "    main()\n"
      ]
    }
  ]
}